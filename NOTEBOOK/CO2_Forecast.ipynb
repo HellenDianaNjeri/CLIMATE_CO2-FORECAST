{
 "cells": [
  {
   "cell_type": "markdown",
   "id": "3a91c27d",
   "metadata": {},
   "source": [
    "# Climate CO₂ Forecast\n",
    "\n",
    "This notebook demonstrates a machine learning approach to forecast CO₂ emissions in support of **SDG 13: Climate Action**."
   ]
  },
  {
   "cell_type": "markdown",
   "id": "a07a0392",
   "metadata": {},
   "source": [
    "## IMPORT THE RELEVANT LIBRARIES"
   ]
  },
  {
   "cell_type": "code",
   "execution_count": null,
   "id": "5dff8189",
   "metadata": {},
   "outputs": [],
   "source": [
    "import pandas as pd\n",
    "import numpy as np\n",
    "import matplotlib.pyplot as plt\n",
    "import seaborn as sns\n",
    "\n",
    "from sklearn.model_selection import train_test_split\n",
    "from sklearn.linear_model import LinearRegression\n",
    "from sklearn.ensemble import RandomForestRegressor\n",
    "from sklearn.metrics import mean_absolute_error, mean_squared_error, r2_score\n"
   ]
  },
  {
   "cell_type": "code",
   "execution_count": null,
   "id": "5b30eb76",
   "metadata": {},
   "outputs": [],
   "source": []
  }
 ],
 "metadata": {
  "kernelspec": {
   "display_name": "learn-env",
   "language": "python",
   "name": "python3"
  },
  "language_info": {
   "name": "python",
   "version": "3.8.5"
  }
 },
 "nbformat": 4,
 "nbformat_minor": 5
}
